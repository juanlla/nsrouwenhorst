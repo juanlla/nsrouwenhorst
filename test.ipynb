{
 "cells": [
  {
   "cell_type": "code",
   "execution_count": 23,
   "metadata": {},
   "outputs": [
    {
     "data": {
      "text/plain": [
       "nsrouwenhorst (generic function with 1 method)"
      ]
     },
     "metadata": {},
     "output_type": "display_data"
    }
   ],
   "source": [
    "include(\"nsrouwenhorst.jl\")"
   ]
  },
  {
   "cell_type": "code",
   "execution_count": 2,
   "metadata": {},
   "outputs": [],
   "source": [
    "using Plots, Random"
   ]
  },
  {
   "cell_type": "code",
   "execution_count": 24,
   "metadata": {},
   "outputs": [
    {
     "ename": "MethodError",
     "evalue": "MethodError: no method matching nsrouwenhorst(::Vector{Float64}, ::Vector{Float64}, ::Int64, ::Int64; y0=1.0)\nClosest candidates are:\n  nsrouwenhorst(::Any, ::Any, ::Any, ::Any) at /Users/juanllavadorperalt/Desktop/nsrouwenhorst/nsrouwenhorst.jl:32 got unsupported keyword argument \"y0\"",
     "output_type": "error",
     "traceback": [
      "MethodError: no method matching nsrouwenhorst(::Vector{Float64}, ::Vector{Float64}, ::Int64, ::Int64; y0=1.0)\n",
      "Closest candidates are:\n",
      "  nsrouwenhorst(::Any, ::Any, ::Any, ::Any) at /Users/juanllavadorperalt/Desktop/nsrouwenhorst/nsrouwenhorst.jl:32 got unsupported keyword argument \"y0\"\n",
      "\n",
      "Stacktrace:\n",
      " [1] top-level scope\n",
      "   @ ~/Desktop/nsrouwenhorst/test.ipynb:5"
     ]
    }
   ],
   "source": [
    "T = 40 \n",
    "ρ = ones(T)\n",
    "σ = ones(T) * 0.05\n",
    "N = 2\n",
    "ygrid, ytrans = nsrouwenhorst(ρ, σ, N, T; y0 = 1.0)\n",
    "ytrans[:,:,10] * ygrid[:,10]"
   ]
  },
  {
   "cell_type": "code",
   "execution_count": 12,
   "metadata": {},
   "outputs": [],
   "source": []
  },
  {
   "cell_type": "code",
   "execution_count": null,
   "metadata": {},
   "outputs": [],
   "source": []
  }
 ],
 "metadata": {
  "kernelspec": {
   "display_name": "Julia 1.6.4",
   "language": "julia",
   "name": "julia-1.6"
  },
  "language_info": {
   "file_extension": ".jl",
   "mimetype": "application/julia",
   "name": "julia",
   "version": "1.6.4"
  },
  "orig_nbformat": 4,
  "vscode": {
   "interpreter": {
    "hash": "31f2aee4e71d21fbe5cf8b01ff0e069b9275f58929596ceb00d14d90e3e16cd6"
   }
  }
 },
 "nbformat": 4,
 "nbformat_minor": 2
}
